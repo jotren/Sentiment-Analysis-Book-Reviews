{
 "cells": [
  {
   "cell_type": "code",
   "execution_count": 8,
   "id": "c102d24f-f669-4502-afab-82464265048e",
   "metadata": {},
   "outputs": [
    {
     "name": "stderr",
     "output_type": "stream",
     "text": [
      "2024-09-29 11:48:42,993\tINFO worker.py:1777 -- Started a local Ray instance. View the dashboard at \u001b[1m\u001b[32mhttp://127.0.0.1:8266 \u001b[39m\u001b[22m\n"
     ]
    },
    {
     "name": "stdout",
     "output_type": "stream",
     "text": [
      "Ray Dashboard is running. Access it at: http://127.0.0.1:8265\n"
     ]
    },
    {
     "name": "stderr",
     "output_type": "stream",
     "text": [
      "\u001b[36m(SentimentAnalyzerActor pid=8892)\u001b[0m C:\\projects\\python\\Sentiment-Analysis\\sentiment_env\\Lib\\site-packages\\transformers\\tokenization_utils_base.py:1617: FutureWarning: `clean_up_tokenization_spaces` was not set. It will be set to `True` by default. This behavior will be deprecated in transformers v4.45, and will be then set to `False` by default. For more details check this issue: https://github.com/huggingface/transformers/issues/31884\n",
      "\u001b[36m(SentimentAnalyzerActor pid=8892)\u001b[0m   warnings.warn(\n"
     ]
    },
    {
     "name": "stdout",
     "output_type": "stream",
     "text": [
      "\u001b[33m(raylet)\u001b[0m Warning: More than 5000 tasks are pending submission to actor 986759350f96f70d8e5963a701000000. To reduce memory usage, wait for these tasks to finish before sending more.\n"
     ]
    }
   ],
   "source": [
    "import ray\n",
    "import pandas as pd\n",
    "from transformers import AutoTokenizer, AutoModelForSequenceClassification, pipeline\n",
    "\n",
    "# Initialize Ray with dashboard enabled\n",
    "ray.init(ignore_reinit_error=True, include_dashboard=True)\n",
    "\n",
    "# Print dashboard URL\n",
    "print(\"Ray Dashboard is running. Access it at: http://127.0.0.1:8265\")\n"
   ]
  },
  {
   "cell_type": "code",
   "execution_count": 9,
   "id": "25078f27-2300-47f3-a423-2d1232ad5883",
   "metadata": {},
   "outputs": [],
   "source": [
    "# Define a Ray Actor to load the model and tokenizer once and reuse for multiple tasks\n",
    "@ray.remote\n",
    "class SentimentAnalyzerActor:\n",
    "    def __init__(self, model_name):\n",
    "        # Load the pre-trained DistilBERT model and tokenizer for sentiment analysis\n",
    "        self.tokenizer = AutoTokenizer.from_pretrained(model_name)\n",
    "        self.model = AutoModelForSequenceClassification.from_pretrained(model_name)\n",
    "        self.pipeline = pipeline(\"sentiment-analysis\", model=self.model, tokenizer=self.tokenizer)\n",
    "    \n",
    "    def analyze_sentiment(self, summary_text):\n",
    "        # Analyze sentiment of the given summary text\n",
    "        result = self.pipeline(summary_text, truncation=True, max_length=512)\n",
    "        # Return the label (POSITIVE/NEGATIVE) and score (confidence)\n",
    "        return result[0]['label'], result[0]['score']\n",
    "\n",
    "# Create an instance of the SentimentAnalyzerActor\n",
    "model_name = \"../models/distilbert-base-uncased-finetuned-sst-2-english\"\n",
    "sentiment_analyzer = SentimentAnalyzerActor.remote(model_name)\n"
   ]
  },
  {
   "cell_type": "code",
   "execution_count": 10,
   "id": "270565f2-010f-4d7c-835e-8c579517a18e",
   "metadata": {},
   "outputs": [
    {
     "data": {
      "text/html": [
       "<div>\n",
       "<style scoped>\n",
       "    .dataframe tbody tr th:only-of-type {\n",
       "        vertical-align: middle;\n",
       "    }\n",
       "\n",
       "    .dataframe tbody tr th {\n",
       "        vertical-align: top;\n",
       "    }\n",
       "\n",
       "    .dataframe thead th {\n",
       "        text-align: right;\n",
       "    }\n",
       "</style>\n",
       "<table border=\"1\" class=\"dataframe\">\n",
       "  <thead>\n",
       "    <tr style=\"text-align: right;\">\n",
       "      <th></th>\n",
       "      <th>Id</th>\n",
       "      <th>summary</th>\n",
       "    </tr>\n",
       "  </thead>\n",
       "  <tbody>\n",
       "    <tr>\n",
       "      <th>0</th>\n",
       "      <td>1882931173</td>\n",
       "      <td>This is only for Julie Strain fans. It's a col...</td>\n",
       "    </tr>\n",
       "    <tr>\n",
       "      <th>1</th>\n",
       "      <td>0826414346</td>\n",
       "      <td>I don't care much for Dr. Seuss but after read...</td>\n",
       "    </tr>\n",
       "    <tr>\n",
       "      <th>2</th>\n",
       "      <td>0826414346</td>\n",
       "      <td>If people become the books they read and if \"t...</td>\n",
       "    </tr>\n",
       "    <tr>\n",
       "      <th>3</th>\n",
       "      <td>0826414346</td>\n",
       "      <td>Theodore Seuss Geisel (1904-1991) was one of t...</td>\n",
       "    </tr>\n",
       "    <tr>\n",
       "      <th>4</th>\n",
       "      <td>0826414346</td>\n",
       "      <td>Philip Nel - Dr. Seuss: American IconThis is b...</td>\n",
       "    </tr>\n",
       "  </tbody>\n",
       "</table>\n",
       "</div>"
      ],
      "text/plain": [
       "           Id                                            summary\n",
       "0  1882931173  This is only for Julie Strain fans. It's a col...\n",
       "1  0826414346  I don't care much for Dr. Seuss but after read...\n",
       "2  0826414346  If people become the books they read and if \"t...\n",
       "3  0826414346  Theodore Seuss Geisel (1904-1991) was one of t...\n",
       "4  0826414346  Philip Nel - Dr. Seuss: American IconThis is b..."
      ]
     },
     "execution_count": 10,
     "metadata": {},
     "output_type": "execute_result"
    }
   ],
   "source": [
    "# Load the DataFrame that contains the summary text\n",
    "df_summary = pd.read_csv('../data/processed/Books_bart-large-summary_10000_rows.csv')  # Path to the CSV with summaries\n",
    "\n",
    "# Display the first few rows of the DataFrame\n",
    "df_summary.head()\n"
   ]
  },
  {
   "cell_type": "code",
   "execution_count": 11,
   "id": "a583fd7a-6e1c-45ac-8846-e60a40f923e9",
   "metadata": {},
   "outputs": [
    {
     "data": {
      "text/html": [
       "<div>\n",
       "<style scoped>\n",
       "    .dataframe tbody tr th:only-of-type {\n",
       "        vertical-align: middle;\n",
       "    }\n",
       "\n",
       "    .dataframe tbody tr th {\n",
       "        vertical-align: top;\n",
       "    }\n",
       "\n",
       "    .dataframe thead th {\n",
       "        text-align: right;\n",
       "    }\n",
       "</style>\n",
       "<table border=\"1\" class=\"dataframe\">\n",
       "  <thead>\n",
       "    <tr style=\"text-align: right;\">\n",
       "      <th></th>\n",
       "      <th>Id</th>\n",
       "      <th>summary</th>\n",
       "      <th>sentiment_label</th>\n",
       "      <th>sentiment_score</th>\n",
       "    </tr>\n",
       "  </thead>\n",
       "  <tbody>\n",
       "    <tr>\n",
       "      <th>0</th>\n",
       "      <td>1882931173</td>\n",
       "      <td>This is only for Julie Strain fans. It's a col...</td>\n",
       "      <td>NEGATIVE</td>\n",
       "      <td>0.924354</td>\n",
       "    </tr>\n",
       "    <tr>\n",
       "      <th>1</th>\n",
       "      <td>0826414346</td>\n",
       "      <td>I don't care much for Dr. Seuss but after read...</td>\n",
       "      <td>POSITIVE</td>\n",
       "      <td>0.998793</td>\n",
       "    </tr>\n",
       "    <tr>\n",
       "      <th>2</th>\n",
       "      <td>0826414346</td>\n",
       "      <td>If people become the books they read and if \"t...</td>\n",
       "      <td>POSITIVE</td>\n",
       "      <td>0.999778</td>\n",
       "    </tr>\n",
       "    <tr>\n",
       "      <th>3</th>\n",
       "      <td>0826414346</td>\n",
       "      <td>Theodore Seuss Geisel (1904-1991) was one of t...</td>\n",
       "      <td>POSITIVE</td>\n",
       "      <td>0.998776</td>\n",
       "    </tr>\n",
       "    <tr>\n",
       "      <th>4</th>\n",
       "      <td>0826414346</td>\n",
       "      <td>Philip Nel - Dr. Seuss: American IconThis is b...</td>\n",
       "      <td>POSITIVE</td>\n",
       "      <td>0.982722</td>\n",
       "    </tr>\n",
       "  </tbody>\n",
       "</table>\n",
       "</div>"
      ],
      "text/plain": [
       "           Id                                            summary  \\\n",
       "0  1882931173  This is only for Julie Strain fans. It's a col...   \n",
       "1  0826414346  I don't care much for Dr. Seuss but after read...   \n",
       "2  0826414346  If people become the books they read and if \"t...   \n",
       "3  0826414346  Theodore Seuss Geisel (1904-1991) was one of t...   \n",
       "4  0826414346  Philip Nel - Dr. Seuss: American IconThis is b...   \n",
       "\n",
       "  sentiment_label  sentiment_score  \n",
       "0        NEGATIVE         0.924354  \n",
       "1        POSITIVE         0.998793  \n",
       "2        POSITIVE         0.999778  \n",
       "3        POSITIVE         0.998776  \n",
       "4        POSITIVE         0.982722  "
      ]
     },
     "execution_count": 11,
     "metadata": {},
     "output_type": "execute_result"
    }
   ],
   "source": [
    "# Submit Ray tasks for each summary in the DataFrame\n",
    "sentiment_futures = [sentiment_analyzer.analyze_sentiment.remote(summary) for summary in df_summary['summary']]\n",
    "\n",
    "# Retrieve the sentiment results when the tasks are done\n",
    "sentiment_results = ray.get(sentiment_futures)\n",
    "\n",
    "# Unpack the sentiment results into labels and scores\n",
    "sentiment_labels, sentiment_scores = zip(*sentiment_results)\n",
    "\n",
    "# Add the sentiment results back into the DataFrame\n",
    "df_summary['sentiment_label'] = sentiment_labels\n",
    "df_summary['sentiment_score'] = sentiment_scores\n",
    "\n",
    "# Display the updated DataFrame with sentiment analysis\n",
    "df_summary.head()\n"
   ]
  },
  {
   "cell_type": "code",
   "execution_count": 12,
   "id": "c28af4ad-1534-41ed-9c79-286ddb5c17e3",
   "metadata": {},
   "outputs": [
    {
     "name": "stdout",
     "output_type": "stream",
     "text": [
      "Sentiment analysis completed and saved to 'Books_summary_with_sentiment.csv'.\n"
     ]
    }
   ],
   "source": [
    "# Save the updated DataFrame with sentiment results to a new CSV file\n",
    "df_summary.to_csv('../data/Books_summary_with_sentiment.csv', index=False)\n",
    "\n",
    "# Print confirmation\n",
    "print(\"Sentiment analysis completed and saved to 'Books_summary_with_sentiment.csv'.\")\n"
   ]
  },
  {
   "cell_type": "code",
   "execution_count": 13,
   "id": "b6978056-d5a7-4f7d-8c1b-9f38dcca5fcb",
   "metadata": {},
   "outputs": [
    {
     "name": "stdout",
     "output_type": "stream",
     "text": [
      "Ray has been shut down.\n"
     ]
    }
   ],
   "source": [
    "# Shut down Ray after processing\n",
    "ray.shutdown()\n",
    "\n",
    "# Print confirmation\n",
    "print(\"Ray has been shut down.\")\n"
   ]
  },
  {
   "cell_type": "code",
   "execution_count": null,
   "id": "d2071cf5-b5b3-48dd-b5d5-f0b37d1bc304",
   "metadata": {},
   "outputs": [],
   "source": []
  }
 ],
 "metadata": {
  "kernelspec": {
   "display_name": "sentiment_env",
   "language": "python",
   "name": "myenv"
  },
  "language_info": {
   "codemirror_mode": {
    "name": "ipython",
    "version": 3
   },
   "file_extension": ".py",
   "mimetype": "text/x-python",
   "name": "python",
   "nbconvert_exporter": "python",
   "pygments_lexer": "ipython3",
   "version": "3.12.4"
  }
 },
 "nbformat": 4,
 "nbformat_minor": 5
}
