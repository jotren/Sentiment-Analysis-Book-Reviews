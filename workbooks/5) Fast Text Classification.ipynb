{
 "cells": [
  {
   "cell_type": "markdown",
   "id": "efd65575-5f42-4658-ba1b-f82dee7781d7",
   "metadata": {},
   "source": [
    "# Fast Text Classification\n",
    "\n",
    "It looks like Dataiku uses a different approach for sentiment analysis using FastText and training a model on Amazon Review Data. This data has been labelled which a score, so I want to train two models:\n",
    "\n",
    "1) Binary Sentiment Analysis: Positive, Neutral, Negative\n",
    "2) Multi Score Sentiment Analysis: Score from 1 -> 5 "
   ]
  },
  {
   "cell_type": "code",
   "execution_count": null,
   "id": "60b62d04-ae92-44b5-b39a-c581917288b5",
   "metadata": {},
   "outputs": [],
   "source": []
  }
 ],
 "metadata": {
  "kernelspec": {
   "display_name": "sentiment_env",
   "language": "python",
   "name": "myenv"
  },
  "language_info": {
   "codemirror_mode": {
    "name": "ipython",
    "version": 3
   },
   "file_extension": ".py",
   "mimetype": "text/x-python",
   "name": "python",
   "nbconvert_exporter": "python",
   "pygments_lexer": "ipython3",
   "version": "3.12.4"
  }
 },
 "nbformat": 4,
 "nbformat_minor": 5
}
