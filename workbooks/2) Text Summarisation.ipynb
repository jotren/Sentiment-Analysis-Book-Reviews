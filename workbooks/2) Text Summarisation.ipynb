{
 "cells": [
  {
   "cell_type": "markdown",
   "id": "a8b7a789-63fd-43eb-ab3b-c65049b54452",
   "metadata": {},
   "source": [
    "# Text Summarisation\n",
    "\n",
    "Here we are using Ray to parralell process the summary of the text. These are very intensive models which require a lot of computation."
   ]
  },
  {
   "cell_type": "code",
   "execution_count": 1,
   "id": "9c5d5632-61b9-456c-be43-9b525aaedbed",
   "metadata": {},
   "outputs": [
    {
     "name": "stderr",
     "output_type": "stream",
     "text": [
      "2024-09-29 08:29:12,390\tINFO worker.py:1777 -- Started a local Ray instance. View the dashboard at \u001b[1m\u001b[32mhttp://127.0.0.1:8265 \u001b[39m\u001b[22m\n",
      "\u001b[36m(summarize_text pid=30856)\u001b[0m Your max_length is set to 512, but your input_length is only 482. Since this is a summarization task, where outputs shorter than the input are typically wanted, you might consider decreasing max_length manually, e.g. summarizer('...', max_length=241)\n",
      "\u001b[36m(summarize_text pid=18460)\u001b[0m Your max_length is set to 512, but your input_length is only 504. Since this is a summarization task, where outputs shorter than the input are typically wanted, you might consider decreasing max_length manually, e.g. summarizer('...', max_length=252)\n",
      "\u001b[36m(summarize_text pid=2556)\u001b[0m Your max_length is set to 512, but your input_length is only 509. Since this is a summarization task, where outputs shorter than the input are typically wanted, you might consider decreasing max_length manually, e.g. summarizer('...', max_length=254)\n",
      "\u001b[36m(summarize_text pid=29788)\u001b[0m Your max_length is set to 512, but your input_length is only 497. Since this is a summarization task, where outputs shorter than the input are typically wanted, you might consider decreasing max_length manually, e.g. summarizer('...', max_length=248)\n",
      "\u001b[36m(summarize_text pid=31384)\u001b[0m Your max_length is set to 512, but your input_length is only 495. Since this is a summarization task, where outputs shorter than the input are typically wanted, you might consider decreasing max_length manually, e.g. summarizer('...', max_length=247)\n",
      "\u001b[36m(summarize_text pid=17156)\u001b[0m Your max_length is set to 512, but your input_length is only 458. Since this is a summarization task, where outputs shorter than the input are typically wanted, you might consider decreasing max_length manually, e.g. summarizer('...', max_length=229)\n",
      "\u001b[36m(summarize_text pid=2312)\u001b[0m Your max_length is set to 512, but your input_length is only 493. Since this is a summarization task, where outputs shorter than the input are typically wanted, you might consider decreasing max_length manually, e.g. summarizer('...', max_length=246)\n",
      "\u001b[36m(summarize_text pid=18460)\u001b[0m Your max_length is set to 512, but your input_length is only 490. Since this is a summarization task, where outputs shorter than the input are typically wanted, you might consider decreasing max_length manually, e.g. summarizer('...', max_length=245)\n",
      "\u001b[36m(summarize_text pid=2556)\u001b[0m Your max_length is set to 512, but your input_length is only 465. Since this is a summarization task, where outputs shorter than the input are typically wanted, you might consider decreasing max_length manually, e.g. summarizer('...', max_length=232)\n",
      "\u001b[36m(summarize_text pid=29248)\u001b[0m Your max_length is set to 512, but your input_length is only 505. Since this is a summarization task, where outputs shorter than the input are typically wanted, you might consider decreasing max_length manually, e.g. summarizer('...', max_length=252)\n",
      "\u001b[36m(summarize_text pid=14116)\u001b[0m Your max_length is set to 512, but your input_length is only 505. Since this is a summarization task, where outputs shorter than the input are typically wanted, you might consider decreasing max_length manually, e.g. summarizer('...', max_length=252)\n",
      "\u001b[36m(summarize_text pid=30628)\u001b[0m Your max_length is set to 512, but your input_length is only 499. Since this is a summarization task, where outputs shorter than the input are typically wanted, you might consider decreasing max_length manually, e.g. summarizer('...', max_length=249)\n",
      "\u001b[36m(summarize_text pid=5988)\u001b[0m Your max_length is set to 512, but your input_length is only 465. Since this is a summarization task, where outputs shorter than the input are typically wanted, you might consider decreasing max_length manually, e.g. summarizer('...', max_length=232)\n",
      "\u001b[36m(summarize_text pid=29248)\u001b[0m Your max_length is set to 512, but your input_length is only 507. Since this is a summarization task, where outputs shorter than the input are typically wanted, you might consider decreasing max_length manually, e.g. summarizer('...', max_length=253)\u001b[32m [repeated 2x across cluster] (Ray deduplicates logs by default. Set RAY_DEDUP_LOGS=0 to disable log deduplication, or see https://docs.ray.io/en/master/ray-observability/user-guides/configure-logging.html#log-deduplication for more options.)\u001b[0m\n",
      "\u001b[36m(summarize_text pid=5988)\u001b[0m Your max_length is set to 512, but your input_length is only 483. Since this is a summarization task, where outputs shorter than the input are typically wanted, you might consider decreasing max_length manually, e.g. summarizer('...', max_length=241)\n",
      "\u001b[36m(summarize_text pid=17264)\u001b[0m Your max_length is set to 512, but your input_length is only 498. Since this is a summarization task, where outputs shorter than the input are typically wanted, you might consider decreasing max_length manually, e.g. summarizer('...', max_length=249)\n",
      "\u001b[36m(summarize_text pid=23456)\u001b[0m Your max_length is set to 512, but your input_length is only 481. Since this is a summarization task, where outputs shorter than the input are typically wanted, you might consider decreasing max_length manually, e.g. summarizer('...', max_length=240)\n",
      "\u001b[36m(summarize_text pid=29248)\u001b[0m Your max_length is set to 512, but your input_length is only 499. Since this is a summarization task, where outputs shorter than the input are typically wanted, you might consider decreasing max_length manually, e.g. summarizer('...', max_length=249)\n",
      "\u001b[36m(summarize_text pid=2556)\u001b[0m Your max_length is set to 512, but your input_length is only 507. Since this is a summarization task, where outputs shorter than the input are typically wanted, you might consider decreasing max_length manually, e.g. summarizer('...', max_length=253)\n",
      "\u001b[36m(summarize_text pid=18460)\u001b[0m Your max_length is set to 512, but your input_length is only 496. Since this is a summarization task, where outputs shorter than the input are typically wanted, you might consider decreasing max_length manually, e.g. summarizer('...', max_length=248)\n",
      "\u001b[36m(summarize_text pid=25104)\u001b[0m Your max_length is set to 512, but your input_length is only 494. Since this is a summarization task, where outputs shorter than the input are typically wanted, you might consider decreasing max_length manually, e.g. summarizer('...', max_length=247)\n",
      "\u001b[36m(summarize_text pid=30472)\u001b[0m Your max_length is set to 512, but your input_length is only 482. Since this is a summarization task, where outputs shorter than the input are typically wanted, you might consider decreasing max_length manually, e.g. summarizer('...', max_length=241)\n",
      "\u001b[36m(summarize_text pid=12204)\u001b[0m Your max_length is set to 512, but your input_length is only 509. Since this is a summarization task, where outputs shorter than the input are typically wanted, you might consider decreasing max_length manually, e.g. summarizer('...', max_length=254)\n",
      "\u001b[36m(summarize_text pid=23456)\u001b[0m Your max_length is set to 512, but your input_length is only 488. Since this is a summarization task, where outputs shorter than the input are typically wanted, you might consider decreasing max_length manually, e.g. summarizer('...', max_length=244)\n",
      "\u001b[36m(summarize_text pid=2556)\u001b[0m Your max_length is set to 512, but your input_length is only 494. Since this is a summarization task, where outputs shorter than the input are typically wanted, you might consider decreasing max_length manually, e.g. summarizer('...', max_length=247)\n",
      "\u001b[36m(summarize_text pid=17824)\u001b[0m Your max_length is set to 512, but your input_length is only 494. Since this is a summarization task, where outputs shorter than the input are typically wanted, you might consider decreasing max_length manually, e.g. summarizer('...', max_length=247)\n",
      "\u001b[36m(summarize_text pid=18460)\u001b[0m Your max_length is set to 512, but your input_length is only 465. Since this is a summarization task, where outputs shorter than the input are typically wanted, you might consider decreasing max_length manually, e.g. summarizer('...', max_length=232)\n",
      "\u001b[36m(summarize_text pid=29788)\u001b[0m Your max_length is set to 512, but your input_length is only 505. Since this is a summarization task, where outputs shorter than the input are typically wanted, you might consider decreasing max_length manually, e.g. summarizer('...', max_length=252)\n",
      "\u001b[36m(summarize_text pid=30628)\u001b[0m Your max_length is set to 512, but your input_length is only 492. Since this is a summarization task, where outputs shorter than the input are typically wanted, you might consider decreasing max_length manually, e.g. summarizer('...', max_length=246)\n",
      "\u001b[36m(summarize_text pid=30472)\u001b[0m Your max_length is set to 512, but your input_length is only 493. Since this is a summarization task, where outputs shorter than the input are typically wanted, you might consider decreasing max_length manually, e.g. summarizer('...', max_length=246)\n",
      "\u001b[36m(summarize_text pid=4288)\u001b[0m Your max_length is set to 512, but your input_length is only 480. Since this is a summarization task, where outputs shorter than the input are typically wanted, you might consider decreasing max_length manually, e.g. summarizer('...', max_length=240)\n",
      "\u001b[36m(summarize_text pid=17156)\u001b[0m Your max_length is set to 512, but your input_length is only 493. Since this is a summarization task, where outputs shorter than the input are typically wanted, you might consider decreasing max_length manually, e.g. summarizer('...', max_length=246)\n",
      "\u001b[36m(summarize_text pid=5988)\u001b[0m Your max_length is set to 512, but your input_length is only 497. Since this is a summarization task, where outputs shorter than the input are typically wanted, you might consider decreasing max_length manually, e.g. summarizer('...', max_length=248)\n",
      "\u001b[36m(summarize_text pid=2312)\u001b[0m Your max_length is set to 512, but your input_length is only 510. Since this is a summarization task, where outputs shorter than the input are typically wanted, you might consider decreasing max_length manually, e.g. summarizer('...', max_length=255)\n",
      "\u001b[36m(summarize_text pid=17824)\u001b[0m Your max_length is set to 512, but your input_length is only 493. Since this is a summarization task, where outputs shorter than the input are typically wanted, you might consider decreasing max_length manually, e.g. summarizer('...', max_length=246)\n",
      "\u001b[36m(summarize_text pid=4288)\u001b[0m Your max_length is set to 512, but your input_length is only 503. Since this is a summarization task, where outputs shorter than the input are typically wanted, you might consider decreasing max_length manually, e.g. summarizer('...', max_length=251)\n",
      "\u001b[36m(summarize_text pid=17156)\u001b[0m Your max_length is set to 512, but your input_length is only 507. Since this is a summarization task, where outputs shorter than the input are typically wanted, you might consider decreasing max_length manually, e.g. summarizer('...', max_length=253)\n",
      "\u001b[36m(summarize_text pid=27604)\u001b[0m Your max_length is set to 512, but your input_length is only 493. Since this is a summarization task, where outputs shorter than the input are typically wanted, you might consider decreasing max_length manually, e.g. summarizer('...', max_length=246)\n",
      "\u001b[36m(summarize_text pid=2556)\u001b[0m Your max_length is set to 512, but your input_length is only 488. Since this is a summarization task, where outputs shorter than the input are typically wanted, you might consider decreasing max_length manually, e.g. summarizer('...', max_length=244)\n",
      "\u001b[36m(summarize_text pid=18460)\u001b[0m Your max_length is set to 512, but your input_length is only 503. Since this is a summarization task, where outputs shorter than the input are typically wanted, you might consider decreasing max_length manually, e.g. summarizer('...', max_length=251)\n"
     ]
    }
   ],
   "source": [
    "import ray\n",
    "import pandas as pd\n",
    "from transformers import AutoTokenizer, AutoModelForSeq2SeqLM, pipeline\n",
    "\n",
    "rows_to_process = 10000\n",
    "\n",
    "# Initialize Ray\n",
    "ray.init(ignore_reinit_error=True, include_dashboard=True)\n",
    "\n",
    "@ray.remote\n",
    "def summarize_text(text, tokenizer_ref, model_ref, max_length=450, min_length=100, do_sample=False):\n",
    "    # Create a summarization pipeline\n",
    "    summarizer = pipeline(\"summarization\", model=model_ref, tokenizer=tokenizer_ref)\n",
    "    \n",
    "    word_count = len(text.split())  # Calculate word count\n",
    "    \n",
    "    # If text is shorter than 400 words, return the original text\n",
    "    if word_count <= 300:\n",
    "        return text\n",
    "    \n",
    "    # Summarize the text\n",
    "    result = summarizer(text, max_length=max_length, min_length=min_length, truncation=True)\n",
    "    \n",
    "    # Return the summarized text\n",
    "    return result[0]['summary_text']\n",
    "\n"
   ]
  },
  {
   "cell_type": "markdown",
   "id": "172f2741-9e13-4db0-9527-2336d9b292f8",
   "metadata": {},
   "source": [
    "Once we have initialised Ray and define the job if should do with @ray.remote, we can then load the model and process the summaries"
   ]
  },
  {
   "cell_type": "code",
   "execution_count": 2,
   "id": "49a5cc2d-fe50-43bc-b59d-c8b0dcef9acd",
   "metadata": {},
   "outputs": [
    {
     "name": "stderr",
     "output_type": "stream",
     "text": [
      "C:\\projects\\python\\Sentiment-Analysis\\sentiment_env\\Lib\\site-packages\\transformers\\tokenization_utils_base.py:1617: FutureWarning: `clean_up_tokenization_spaces` was not set. It will be set to `True` by default. This behavior will be deprecated in transformers v4.45, and will be then set to `False` by default. For more details check this issue: https://github.com/huggingface/transformers/issues/31884\n",
      "  warnings.warn(\n"
     ]
    }
   ],
   "source": [
    "# Load the BART model and tokenizer for summarization\n",
    "model_name = \"../models/bart-large-cnn\"\n",
    "tokenizer = AutoTokenizer.from_pretrained(model_name)\n",
    "model = AutoModelForSeq2SeqLM.from_pretrained(model_name)\n",
    "\n",
    "# Put the tokenizer and model into Ray's object store for distributed processing\n",
    "tokenizer_ref = ray.put(tokenizer)\n",
    "model_ref = ray.put(model)\n",
    "\n",
    "# Load the dataset (update the path to your dataset)\n",
    "df_full = pd.read_csv('../data/raw/Books_rating.csv')\n",
    "\n",
    "# Use a subset of rows for the sake of this example\n",
    "df = df_full[:rows_to_process]\n",
    "\n",
    "# Submit each text for parallel summarization via Ray\n",
    "futures = [summarize_text.remote(text, tokenizer_ref, model_ref) for text in df['review/text'].tolist()]\n",
    "\n",
    "# Collect results\n",
    "summaries = ray.get(futures)"
   ]
  },
  {
   "cell_type": "markdown",
   "id": "cc78ba77-ebb4-4ac9-8316-c1dfca5f9fd5",
   "metadata": {},
   "source": [
    "We then save these in a csv containing the Id. The row reference will provide a method by which to do a join with the original data."
   ]
  },
  {
   "cell_type": "code",
   "execution_count": 3,
   "id": "82bdb5da-7bdb-4c9f-adf4-176a1b288e96",
   "metadata": {},
   "outputs": [],
   "source": [
    "# Create a new DataFrame with just the 'id' column\n",
    "df_summary = pd.DataFrame(df['Id'])\n",
    "\n",
    "# Add the summaries directly to this smaller DataFrame\n",
    "df_summary['summary'] = summaries\n",
    "\n",
    "output_path = f'../data/processed/Books_bart-large-summary_{rows_to_process}_rows_max_length_csv'\n",
    "df_summary.to_csv(output_path, index=False)\n",
    "\n",
    "# Shut down Ray\n",
    "ray.shutdown()\n"
   ]
  },
  {
   "cell_type": "code",
   "execution_count": null,
   "id": "b0cc3366-fbae-480c-a156-a3c934699554",
   "metadata": {},
   "outputs": [],
   "source": []
  }
 ],
 "metadata": {
  "kernelspec": {
   "display_name": "sentiment_env",
   "language": "python",
   "name": "myenv"
  },
  "language_info": {
   "codemirror_mode": {
    "name": "ipython",
    "version": 3
   },
   "file_extension": ".py",
   "mimetype": "text/x-python",
   "name": "python",
   "nbconvert_exporter": "python",
   "pygments_lexer": "ipython3",
   "version": "3.12.4"
  }
 },
 "nbformat": 4,
 "nbformat_minor": 5
}
